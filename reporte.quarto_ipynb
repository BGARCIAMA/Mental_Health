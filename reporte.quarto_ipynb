{
  "cells": [
    {
      "cell_type": "markdown",
      "metadata": {},
      "source": [
        "---\n",
        "title: \"Mental Health\"\n",
        "author: \n",
        "  - \"Lauro Reyes Rosas - 214532\"\n",
        "  - \"Blanca Estela García Manjarrez - 118886\"\n",
        "  - \"Yuneri Pérez Arellano - 199813\"\n",
        "format:\n",
        "  html:\n",
        "    code-fold: false\n",
        "jupyter: python3\n",
        "subtitle: \"ITAM - Aprendizaje de Máquina\"\n",
        "date: \"Fecha de entrega: 2024-12-11\"\n",
        "professor: \"Felipe González\"\n",
        "cache: true\n",
        "---\n",
        "\n",
        "\n",
        "En este proyecto, abordaremos la tarea de predecir la variable objetivo **Depresión** utilizando un conjunto de datos titulado **Salud Mental**[link][https://www.kaggle.com/competitions/playground-series-s4e11/data]. Este dataset es el resultado de una encuesta integral cuyo propósito fue analizar los factores asociados al riesgo de depresión en adultos. La comprensión de estos factores puede contribuir al desarrollo de intervenciones más efectivas en el ámbito de la salud mental.\n",
        "\n",
        "La encuesta fue llevada a cabo de manera anónima entre enero y junio de 2023 en diversas ciudades, involucrando a personas de diferentes orígenes y profesiones. Los participantes, con edades entre 18 y 60 años, compartieron voluntariamente información sobre una amplia variedad de aspectos, tales como edad, género, ciudad de residencia, entre otros.\n",
        "\n",
        "El conjunto de datos contiene 140,700 registros en el conjunto de entrenamiento y está compuesto por 20 variables, descritas a continuación:\n",
        "\n",
        "| Variable                                  | Descripción                                               |\n",
        "| ----------------------------------------- | --------------------------------------------------------- |\n",
        "| id                                        | Identificador único del registro                          |\n",
        "| Nombre                                    | Nombre del participante                                   |\n",
        "| Género                                    | Género del participante                                   |\n",
        "| Edad                                      | Edad del participante                                     |\n",
        "| Ciudad                                    | Ciudad de residencia                                      |\n",
        "| Profesionista/Estudiante                  | Ocupación principal                                       |\n",
        "| Profesión                                 | Campo laboral o académico                                 |\n",
        "| Presión\\_académica                        | Nivel de presión relacionado con los estudios             |\n",
        "| Presión\\_laboral                          | Nivel de presión relacionado con el trabajo               |\n",
        "| CGPA                                      | Promedio general acumulado                                |\n",
        "| Satisfacción\\_académica                   | Nivel de satisfacción con los estudios                    |\n",
        "| Satisfacción\\_laboral                     | Nivel de satisfacción con el trabajo                      |\n",
        "| Tiempo\\_dormir                            | Horas promedio de sueño por día                           |\n",
        "| Hábitos\\_alimenticios                     | Calidad percibida de los hábitos alimenticios             |\n",
        "| Grado\\_académico                          | Nivel más alto de educación alcanzado                     |\n",
        "| Pensamientos\\_suicidas                    | Indicadores de pensamientos suicidas                      |\n",
        "| Horas\\_estudio/trabajo                    | Promedio de horas dedicadas a estudio o trabajo           |\n",
        "| Estrés\\_financiero                        | Percepción de presión financiera                          |\n",
        "| Antecedente\\_familiar\\_enfermedad\\_mental | Presencia de antecedentes familiares de enfermedad mental |\n",
        "| Depresión                                 | Indicador binario de depresión (variable objetivo)        |\n",
        "\n",
        "\n",
        "El análisis de este conjunto de datos permitirá explorar y modelar las relaciones entre las variables predictoras y la variable objetivo, contribuyendo así a un mejor entendimiento del impacto de diversos factores en la salud mental.\n",
        "\n",
        "## EDA"
      ],
      "id": "b2c30b99"
    },
    {
      "cell_type": "code",
      "metadata": {},
      "source": [
        "#| echo: false\n",
        "#| label: librerias\n",
        "import numpy as np\n",
        "import pandas as pd \n",
        "import matplotlib.pylab as plt \n",
        "import seaborn as sns \n",
        "from mpl_toolkits.axes_grid1.inset_locator import inset_axes\n",
        "\n",
        "sns.set_palette(\"pastel\")\n",
        "\n",
        "import warnings\n",
        "warnings.filterwarnings('ignore')"
      ],
      "id": "librerias",
      "execution_count": null,
      "outputs": []
    },
    {
      "cell_type": "code",
      "metadata": {},
      "source": [
        "#| echo: false\n",
        "#| label: info\n",
        "train = pd.read_csv('data/train.csv')\n",
        "test = pd.read_csv(\"data/test.csv\")\n",
        "# rename columns\n",
        "train.columns = [col.lower().replace(\" \",\"_\") for col in train.columns]\n",
        "test.columns = [col.lower().replace(\" \",\"_\") for col in test.columns]\n",
        "train.info()"
      ],
      "id": "info",
      "execution_count": null,
      "outputs": []
    },
    {
      "cell_type": "markdown",
      "metadata": {},
      "source": [
        "El conjunto de entrenamiento consta de 140,700 registros y 20 columnas.\n",
        "\n",
        "**Variables numéricas**"
      ],
      "id": "9247977b"
    },
    {
      "cell_type": "code",
      "metadata": {},
      "source": [
        "#| echo: false\n",
        "train.describe().round(2).style.format(precision=2)"
      ],
      "id": "0fed5a5d",
      "execution_count": null,
      "outputs": []
    },
    {
      "cell_type": "markdown",
      "metadata": {},
      "source": [
        "El análisis exploratorio de las variables numéricas revela que las relacionadas con satisfacción, presión y estrés están en una escala de 1 a 5, con medias cercanas a 3. La edad de los participantes oscila entre 18 y 60 años, con una media de 40.4, mientras que las horas de trabajo/estudio tienen una media de 6.25 horas diarias. El rendimiento académico (CGPA) muestra valores altos, con una media de 7.66. La variable objetivo, depression, indica que alrededor del 18% de los participantes presenta riesgo de depresión.\n",
        "\n",
        "\n",
        "**Variables categóricas**"
      ],
      "id": "579b27f3"
    },
    {
      "cell_type": "code",
      "metadata": {},
      "source": [
        "#| echo: false\n",
        "train.describe(include=\"object\")"
      ],
      "id": "1e19cc4f",
      "execution_count": null,
      "outputs": []
    },
    {
      "cell_type": "markdown",
      "metadata": {},
      "source": [
        "En cuanto a las variables categóricas, destacan 98 ciudades únicas y 64 profesiones, con \"Teacher\" como la más común. Duraciones de sueño como \"Less than 5 hours\" son las más reportadas, mientras que los antecedentes familiares de enfermedad mental y pensamientos suicidas tienen predominancia de respuestas negativas. Estos resultados iniciales subrayan la diversidad del dataset y señalan áreas clave para el tratamiento de datos, como los valores nulos y categorías con alta cardinalidad.\n",
        "\n",
        "\n",
        "#### Variable Objetivo"
      ],
      "id": "56bb60ca"
    },
    {
      "cell_type": "code",
      "metadata": {},
      "source": [
        "#| echo: false\n",
        "#| label: target variable dist\n",
        "target_colors = [\n",
        "    \"#5EDB92\",\n",
        "    \"#5A665F\",\n",
        "]\n",
        "plt.figure(figsize=(6, 6))\n",
        "plt.pie(\n",
        "    train[\"depression\"].value_counts(),\n",
        "    labels=train[\"depression\"].value_counts().index,\n",
        "    textprops={\"fontsize\": 15, \"color\": \"black\"},\n",
        "    colors=target_colors,\n",
        "    autopct=\"%.0f%%\",\n",
        "    explode=[0.03, 0.03],\n",
        ")\n",
        "plt.title(\"Distribución de la variable Depresión\", fontsize=14)\n",
        "plt.show()"
      ],
      "id": "target-variable-dist",
      "execution_count": null,
      "outputs": []
    },
    {
      "cell_type": "markdown",
      "metadata": {},
      "source": [
        "El análisis de la variable objetivo depression revela un conjunto de datos desbalanceado, donde aproximadamente el 82% de los registros corresponden a individuos sin depresión y solo el 18% a casos positivos. Esta desigualdad es visualmente evidente en la gráfica de distribución.\n",
        "\n",
        "El desbalance en la variable objetivo establece un desafío en el modelado predictivo, ya que los modelos pueden inclinarse hacia la clase mayoritaria. Sin embargo, también sugiere que un punto de referencia inicial para la métrica de precisión (accuracy) debe superar el 82%, ya que ese sería el desempeño esperado al predecir siempre la clase mayoritaria.\n",
        "\n",
        "\n",
        "##### Revisión de valores nulos\n"
      ],
      "id": "ae32c7af"
    },
    {
      "cell_type": "code",
      "metadata": {},
      "source": [
        "#| echo: false\n",
        "#| label: NA check\n",
        "\n",
        "null_percentage = (train.isnull().sum() / len(train)) * 100\n",
        "non_null_percentage = 100 - null_percentage\n",
        "percentage_df = pd.DataFrame({\n",
        "    'Valores Nulos (%)': null_percentage,\n",
        "    'Valores Presentes (%)': non_null_percentage\n",
        "})\n",
        "# Filtrar solo columnas con valores nulos\n",
        "percentage_df = percentage_df[null_percentage > 0]\n",
        "# Gráfico apilado\n",
        "percentage_df.plot(kind='bar', stacked=True, figsize=(8, 6), color=['red', 'green'])\n",
        "plt.title(\"Porcentaje de Valores Nulos\")\n",
        "plt.ylabel(\"Porcentaje (%)\")\n",
        "plt.xticks(rotation=45)\n",
        "plt.legend(loc='upper right')\n",
        "plt.show()"
      ],
      "id": "NA-check",
      "execution_count": null,
      "outputs": []
    },
    {
      "cell_type": "markdown",
      "metadata": {},
      "source": [
        "En particular, las variables relacionadas con estudiantes, como academic_pressure, cgpa, y study_satisfaction, presentan hasta un 80% de valores nulos. Este resultado refleja una menor representación de estudiantes en comparación con profesionistas dentro del dataset.\n",
        "\n",
        "A pesar del alto porcentaje de valores faltantes en estas variables, no se eliminarán del análisis, ya que contienen información valiosa para los casos específicos de estudiantes. Este enfoque permite preservar datos que pueden ser relevantes en el desarrollo del modelo predictivo, especialmente para evaluar las diferencias entre grupos ocupacionales. Las estrategias de imputación y tratamiento de valores nulos serán fundamentales para garantizar la calidad del análisis posterior.\n",
        "\n",
        "\n",
        "#### Ingenieria de Variables\n",
        "Se añadieron características derivadas para enriquecer el dataset y mejorar el análisis. Estas incluyen:\n",
        "\n",
        "* satisfaction_by_work: Relación entre presión laboral y satisfacción en el trabajo.\n",
        "* satisfaction_by_study: Relación entre presión y satisfacción académica.\n",
        "* age_work_satisfaction: Razón entre edad y satisfacción laboral.\n",
        "* cgpa_study: Relación entre promedio académico y presión académica.\n",
        "\n",
        "Estas nuevas variables buscan capturar interacciones clave, como el impacto de la presión en la satisfacción o el desempeño bajo diferentes condiciones, y tienen el potencial de mejorar el modelo predictivo. Las varibales se crean con la siguiente función:"
      ],
      "id": "113ff475"
    },
    {
      "cell_type": "code",
      "metadata": {},
      "source": [
        "#| label: new feats\n",
        "def new_feats(df):\n",
        "    df = (\n",
        "        df.assign(satisfaction_by_work=df[\"work_pressure\"] / df[\"job_satisfaction\"])\n",
        "        .assign(\n",
        "            satisfaction_by_study=df[\"academic_pressure\"] / df[\"study_satisfaction\"]\n",
        "        )\n",
        "        .assign(age_work_satisfaction=df[\"age\"] / df[\"job_satisfaction\"])\n",
        "        .assign(cgpa_study=df[\"cgpa\"] / df[\"academic_pressure\"])\n",
        "    )\n",
        "    return df\n",
        "\n",
        "train = new_feats(train).copy()\n",
        "test = new_feats(test).copy()"
      ],
      "id": "new-feats",
      "execution_count": null,
      "outputs": []
    },
    {
      "cell_type": "markdown",
      "metadata": {},
      "source": [
        "Dado que algunas variables categóricas presentan un gran número de categorías únicas, se implementó una estrategia para agrupar las categorías menos representativas en una etiqueta denominada \"Other\". Esto asegura que las categorías seleccionadas representen al menos el 90% de los datos, reduciendo la dimensionalidad y facilitando el análisis.\n",
        "\n",
        "Las columnas ajustadas incluyen:\n",
        "\n",
        "* city\n",
        "* profession\n",
        "* sleep_duration\n",
        "* dietary_habits\n",
        "* degree\n",
        "\n",
        "Esta transformación permite simplificar la estructura del dataset sin perder información relevante, mejorando la manejabilidad del modelo y reduciendo el riesgo de sobreajuste debido a categorías con baja frecuencia.\n"
      ],
      "id": "a0fae8b8"
    },
    {
      "cell_type": "code",
      "metadata": {},
      "source": [
        "#| echo: false\n",
        "\n",
        "num_feats = train.select_dtypes(include=\"float64\").columns\n",
        "obj_feats = train.select_dtypes(include=\"object\").columns\n",
        "target = train.select_dtypes(include=\"int64\").columns\n",
        "\n",
        "def group_low_frequency(train, test, column, threshold_percentage):\n",
        "    \"\"\"\n",
        "    Agrupa las categorías con representación acumulativa menor al umbral definido en \"Other\".\n",
        "\n",
        "    Args:\n",
        "        train (pd.DataFrame): DataFrame de entrenamiento.\n",
        "        test (pd.DataFrame): DataFrame de prueba.\n",
        "        column (str): Columna objetivo a transformar.\n",
        "        threshold_percentage (float): Umbral de porcentaje (0-100) para incluir categorías acumulativas.\n",
        "\n",
        "    Returns:\n",
        "        pd.Series, pd.Series: Columnas transformadas para `train` y `test`.\n",
        "    \"\"\"\n",
        "    # Calcular la frecuencia normalizada y ordenarla\n",
        "    value_counts = train[column].value_counts(normalize=True).sort_values(ascending=False)\n",
        "\n",
        "    # Calcular el porcentaje acumulativo\n",
        "    cumsum = value_counts.cumsum()\n",
        "\n",
        "    # Identificar categorías que generan el porcentaje acumulativo dentro del umbral\n",
        "    valid_categories = cumsum[cumsum <= threshold_percentage].index\n",
        "\n",
        "    # Transformar la columna en train\n",
        "    train_transformed = train[column].apply(lambda x: x if x in valid_categories else \"Other\")\n",
        "\n",
        "    # Transformar la columna en test (usar categorías válidas de train)\n",
        "    test_transformed = test[column].apply(lambda x: x if x in valid_categories else \"Other\")\n",
        "\n",
        "    return train_transformed, test_transformed"
      ],
      "id": "8f5bb698",
      "execution_count": null,
      "outputs": []
    },
    {
      "cell_type": "code",
      "metadata": {},
      "source": [
        "train[\"city\"], test[\"city\"] = group_low_frequency(train, test, 'city', 0.9)\n",
        "train[\"profession\"], test[\"profession\"] = group_low_frequency(train, test, 'profession', 0.9)\n",
        "train[\"sleep_duration\"], test[\"sleep_duration\"] = group_low_frequency(train, test, 'sleep_duration', 0.9)\n",
        "train[\"dietary_habits\"], test[\"dietary_habits\"] = group_low_frequency(train, test, 'dietary_habits', 0.9)\n",
        "train[\"degree\"], test[\"degree\"] = group_low_frequency(train, test, 'degree', 0.9)"
      ],
      "id": "2faa120b",
      "execution_count": null,
      "outputs": []
    },
    {
      "cell_type": "markdown",
      "metadata": {},
      "source": [
        "Tras la agrupación, las variables categóricas principales quedan resumidas con las categorías más representativas"
      ],
      "id": "26271bb9"
    },
    {
      "cell_type": "code",
      "metadata": {},
      "source": [
        "#| echo: false\n",
        "train[[\"city\",\"profession\",\"sleep_duration\",\"dietary_habits\",\"degree\"]].describe(include=\"object\")"
      ],
      "id": "e384fe09",
      "execution_count": null,
      "outputs": []
    },
    {
      "cell_type": "markdown",
      "metadata": {},
      "source": [
        "##### Relación variables categóricas y Depresión\n"
      ],
      "id": "702b967e"
    },
    {
      "cell_type": "code",
      "metadata": {},
      "source": [
        "#| echo: false\n",
        "#| label: catplt\n",
        "def catplt(x_var, aspect = 4):\n",
        "    gs = sns.catplot(\n",
        "        data=train,\n",
        "        x=x_var,\n",
        "        kind=\"count\",\n",
        "        hue=\"depression\",\n",
        "        height=2,\n",
        "        aspect=aspect,\n",
        "        sharey=False,\n",
        "        palette=target_colors,\n",
        "        legend_out=False,\n",
        "        legend=\"auto\",\n",
        "        width=0.5,\n",
        "    )\n",
        "    for ax in gs.axes.ravel():\n",
        "        for i in ax.containers:\n",
        "            ax.bar_label(i, label_type=\"edge\", fontsize=8)\n",
        "            ax.set_xlabel(\"\", fontsize=12)\n",
        "            ax.set_ylabel(\"\", fontsize=12)\n",
        "            ax.tick_params(axis=\"both\", labelsize=8)\n",
        "            gs._legend.remove()\n",
        "            gs.set_titles(size=8)\n",
        "\n",
        "    plt.legend(title=\"Target\", title_fontsize=8, fontsize=8, loc=\"best\")\n",
        "    plt.show()"
      ],
      "id": "catplt",
      "execution_count": null,
      "outputs": []
    },
    {
      "cell_type": "code",
      "metadata": {},
      "source": [
        "#| echo: false\n",
        "catplt(x_var=\"work/study_hours\", aspect= 8)"
      ],
      "id": "66cb8167",
      "execution_count": null,
      "outputs": []
    },
    {
      "cell_type": "markdown",
      "metadata": {},
      "source": [
        "El análisis gráfico de la variable work/study_hours muestra un patrón interesante: a medida que aumentan las horas dedicadas al trabajo o estudio, también aumenta la proporción de casos con indicadores de depresión.\n"
      ],
      "id": "00e3c14f"
    },
    {
      "cell_type": "code",
      "metadata": {},
      "source": [
        "#| echo: false\n",
        "catplt(x_var=\"working_professional_or_student\")"
      ],
      "id": "84aaae78",
      "execution_count": null,
      "outputs": []
    },
    {
      "cell_type": "markdown",
      "metadata": {},
      "source": [
        "Los resultados muestran que más de la mitad de los estudiantes en el dataset tienen indicadores de depresión. Esto resalta una diferencia notable en comparación con los profesionales, sugiriendo que el entorno académico puede ser un factor de estrés significativo.\n"
      ],
      "id": "a8c09a50"
    },
    {
      "cell_type": "code",
      "metadata": {},
      "source": [
        "#| echo: false\n",
        "catplt(x_var=\"gender\")"
      ],
      "id": "800e2275",
      "execution_count": null,
      "outputs": []
    },
    {
      "cell_type": "markdown",
      "metadata": {},
      "source": [
        "Aunque hay más hombres con depresión en términos absolutos, los porcentajes de depresión entre hombres y mujeres son similares, alrededor del 18%. Esto indica que la distribución de la variable objetivo no presenta un sesgo significativo entre géneros."
      ],
      "id": "370800ce"
    },
    {
      "cell_type": "code",
      "metadata": {},
      "source": [
        "#| echo: false\n",
        "catplt(x_var=\"study_satisfaction\")"
      ],
      "id": "bbb3b11a",
      "execution_count": null,
      "outputs": []
    },
    {
      "cell_type": "markdown",
      "metadata": {},
      "source": [
        "Se observa una clara relación inversa entre la satisfacción en los estudios y la propensión a la depresión. A menor satisfacción académica, mayor es la proporción de casos positivos de depresión, lo que refuerza la importancia del bienestar en el ámbito educativo.\n",
        "\n",
        "\n",
        "##### Mapa de correlación entre variable numéricas"
      ],
      "id": "5d870bdd"
    },
    {
      "cell_type": "code",
      "metadata": {},
      "source": [
        "#| echo: false\n",
        "plt.style.use(\"default\")\n",
        "corr_mat = train[num_feats].corr()\n",
        "mask = np.triu(np.ones_like(corr_mat, dtype=bool))\n",
        "cmap = sns.diverging_palette(230, 30, as_cmap=True)\n",
        "f, ax = plt.subplots(figsize=(9, 7))\n",
        "sns.heatmap(\n",
        "    corr_mat,\n",
        "    mask=mask,\n",
        "    cbar=True,\n",
        "    cmap=cmap,\n",
        "    center=0,\n",
        "    square=False,\n",
        "    annot=False,\n",
        "    linewidths=0.5,\n",
        "    cbar_kws={\"shrink\": 0.8},\n",
        ")\n",
        "plt.title(\"Correlation Matrix\\n\")\n",
        "plt.xticks(fontsize=9)\n",
        "plt.yticks(fontsize=9)\n",
        "plt.show()"
      ],
      "id": "99fa57a9",
      "execution_count": null,
      "outputs": []
    },
    {
      "cell_type": "markdown",
      "metadata": {},
      "source": [
        "## Modelos"
      ],
      "id": "8e1063d9"
    },
    {
      "cell_type": "code",
      "metadata": {},
      "source": [
        "#| echo: false\n",
        "#| label: Sklearn libraries\n",
        "\n",
        "from sklearn.model_selection import (\n",
        "    train_test_split,\n",
        "    StratifiedKFold,\n",
        ")\n",
        "\n",
        "from catboost import CatBoostClassifier, Pool\n",
        "from sklearn.linear_model import LogisticRegression"
      ],
      "id": "Sklearn-libraries",
      "execution_count": null,
      "outputs": []
    },
    {
      "cell_type": "markdown",
      "metadata": {},
      "source": [
        "### CatBoost\n",
        "\n",
        "CatBoost es un algoritmo de aprendizaje automático basado en árboles de decisión que utiliza técnicas avanzadas de boosting. Es especialmente útil para trabajar con datos categóricos, ya que implementa un manejo eficiente de estas variables mediante codificación automática, lo que reduce la necesidad de preprocesamiento adicional. Además, CatBoost es conocido por su capacidad de minimizar el riesgo de sobreajuste y su alto desempeño en tareas de clasificación y regresión.\n",
        "\n",
        "Elegimos CatBoost para este ejercicio debido a la naturaleza del dataset, que contiene una combinación de variables numéricas y categóricas. Su capacidad para procesar variables categóricas de forma nativa, junto con su robustez frente al desbalance de datos, lo hace ideal para predecir nuestra variable objetivo, **depression**, en un conjunto de datos con estructuras y distribuciones complejas. Además, el rendimiento competitivo de CatBoost en comparación con otros algoritmos de boosting lo convierte en una opción sólida para este tipo de problema.\n",
        "\n",
        "Para entrenar el modelo, el dataset se preprocesó llenando valores faltantes con \"0\" y ajustando los tipos de datos según la naturaleza de las variables (numéricas, categóricas y objetivo). Posteriormente, se dividieron los datos en conjuntos de entrenamiento y prueba, utilizando el 70% de los datos para entrenamiento y el 30% para prueba. Este procedimiento garantiza una evaluación justa del modelo, preservando datos no vistos para validar su desempeño y evitar el sobreajuste.\n"
      ],
      "id": "476a9631"
    },
    {
      "cell_type": "code",
      "metadata": {},
      "source": [
        "#| echo: false\n",
        "#| label: Catboost\n",
        "cat_train = train.fillna(\"0\")\n",
        "cat_test = test.fillna(\"0\")\n",
        "cat_train[num_feats] = cat_train[num_feats].astype(\"float64\")\n",
        "cat_train[obj_feats] = cat_train[obj_feats].astype(\"string\")\n",
        "cat_train[target] = cat_train[target].astype(\"int64\")\n",
        "cat_test[num_feats] = cat_test[num_feats].astype(\"float64\")\n",
        "cat_test[obj_feats] = cat_test[obj_feats].astype(\"string\")\n",
        "y = cat_train[\"depression\"]\n",
        "X = cat_train.drop([\"depression\"], axis=1)\n",
        "X_train, X_test, y_train, y_test = train_test_split(\n",
        "    X, y, test_size=0.3, random_state=4\n",
        ")\n",
        "\n",
        "print(\"----------X Shape---------\")\n",
        "print(X.shape)\n",
        "print(\"*************************************\")\n",
        "print(\"----------y Shape------------\")\n",
        "print(y.shape)"
      ],
      "id": "Catboost",
      "execution_count": null,
      "outputs": []
    },
    {
      "cell_type": "markdown",
      "metadata": {},
      "source": [
        "En este paso, utilizamos Optuna, una biblioteca eficiente para la optimización de hiperparámetros, con el objetivo de encontrar la mejor configuración para el modelo de CatBoostClassifier. La función de optimización busca maximizar el desempeño del modelo en términos de precisión (accuracy) utilizando un enfoque basado en validación cruzada.\n",
        "Espacio de Búsqueda\n",
        "\n",
        "El espacio de búsqueda incluye los siguientes hiperparámetros:"
      ],
      "id": "bf1907be"
    },
    {
      "cell_type": "code",
      "metadata": {},
      "source": [
        "def objective(trial):\n",
        "    # Espacio de búsqueda para los hiperparámetros\n",
        "    params = {\n",
        "        'iterations': trial.suggest_int('iterations', 100, 1000),\n",
        "        'learning_rate': trial.suggest_float('learning_rate', 0.01, 0.3),\n",
        "        'depth': trial.suggest_int('depth', 4, 10),\n",
        "        'colsample_bylevel': trial.suggest_float('colsample_bylevel', 0.5, 1.0),\n",
        "        'subsample': trial.suggest_float('subsample', 0.5, 1.0),\n",
        "        'min_data_in_leaf': trial.suggest_int('min_data_in_leaf', 1, 10),\n",
        "        'l2_leaf_reg': trial.suggest_float('l2_leaf_reg', 1.0, 20.0),\n",
        "        'random_strength': trial.suggest_float('random_strength', 0.0, 1.0),\n",
        "    }\n",
        "\n",
        "    # Modelo de CatBoost\n",
        "    model = CatBoostClassifier(**params, cat_features=list(obj_feats), verbose=False)\n",
        "\n",
        "    # Evaluación usando validación cruzada\n",
        "    score = cross_val_score(model, X_train, y_train, cv=3, scoring='accuracy').mean()\n",
        "\n",
        "    return score"
      ],
      "id": "6730b556",
      "execution_count": null,
      "outputs": []
    },
    {
      "cell_type": "markdown",
      "metadata": {},
      "source": [
        "Función Objetivo\n",
        "\n",
        "La función objetivo se define como el promedio de la precisión obtenida mediante validación cruzada con 3 particiones ($k=3$):\n",
        "\n",
        "$$\\text{Score} = \\frac{1}{k} \\sum_{i=1}^{k} \\text{Accuracy}(i)$$\n",
        "\n",
        "Donde $\\text{Accuracy}(i)$ es la precisión en el $i$-ésimo fold de la validación cruzada. El modelo de CatBoost se entrena y evalúa en cada iteración con una combinación específica de hiperparámetros sugerida por Optuna.\n"
      ],
      "id": "e2412a10"
    },
    {
      "cell_type": "code",
      "metadata": {},
      "source": [
        "best_params = {'iterations': 633,\n",
        " 'learning_rate': 0.18918646362839026,\n",
        " 'depth': 4,\n",
        " 'colsample_bylevel': 0.9909843814690833,\n",
        " 'subsample': 0.9778634549619083,\n",
        " 'min_data_in_leaf': 1,\n",
        " 'l2_leaf_reg': 10.504885456201343,\n",
        " 'random_strength': 0.664861942866057}"
      ],
      "id": "e4cb6abd",
      "execution_count": null,
      "outputs": []
    },
    {
      "cell_type": "code",
      "metadata": {},
      "source": [
        "#| eval: false\n",
        "#| label: Catboost run\n",
        "cat_interp = CatBoostClassifier(**best_params, verbose=True, cat_features=X[obj_feats].columns.values, early_stopping_rounds=200)\n",
        "cat_cv_last = StratifiedKFold(20, shuffle=True, random_state=42)\n",
        "cat_cv_splits = cat_cv_last.split(X, y)\n",
        "acc_scores = []\n",
        "last_test_df_preds = []\n",
        "cat_features = X[obj_feats].columns.values\n",
        "X[cat_features] = X[cat_features].fillna('nan').astype(str)\n",
        "X_test_df_pool = Pool(test, cat_features=X[obj_feats].columns.values)\n",
        "for i, (full_train_idx, valid_idx) in enumerate(cat_cv_splits):\n",
        "    model_fold = CatBoostClassifier(**best_params)\n",
        "    X_train_fold, X_valid_fold = X.loc[full_train_idx], X.loc[valid_idx]\n",
        "    y_train_fold, y_valid_fold = y.loc[full_train_idx], y.loc[valid_idx]\n",
        "    X_train_pool = Pool(X_train_fold, y_train_fold, cat_features=X[obj_feats].columns.values)\n",
        "    X_valid_pool = Pool(X_valid_fold, y_valid_fold, cat_features=X[obj_feats].columns.values)\n",
        "    model_fold.fit(X=X_train_pool, eval_set=X_valid_pool, verbose=False, early_stopping_rounds=100)\n",
        "    valid_pred = model_fold.predict(X_valid_pool)\n",
        "    score = accuracy_score(y_valid_fold, valid_pred)\n",
        "    acc_scores.append(score)\n",
        "    test_df_pred = model_fold.predict_proba(X_test_df_pool)[:, 1]\n",
        "    last_test_df_preds.append(test_df_pred)\n",
        "    print(f'Fold {i + 1} Accuracy Score: {score}')"
      ],
      "id": "Catboost-run",
      "execution_count": null,
      "outputs": []
    },
    {
      "cell_type": "markdown",
      "metadata": {},
      "source": [
        "Fold 1 Accuracy Score: 0.9383\n",
        "\n",
        "Fold 2 Accuracy Score: 0.9420\n",
        "\n",
        "Fold 3 Accuracy Score: 0.9375\n",
        "\n",
        "Fold 4 Accuracy Score: 0.9389\n",
        "\n",
        "Fold 5 Accuracy Score: 0.9419\n",
        "\n",
        "Fold 6 Accuracy Score: 0.9407\n",
        "\n",
        "Fold 7 Accuracy Score: 0.9396\n",
        "\n",
        "Fold 8 Accuracy Score: 0.9429\n",
        "\n",
        "Fold 9 Accuracy Score: 0.9403\n",
        "\n",
        "Fold 10 Accuracy Score: 0.9395"
      ],
      "id": "75783d35"
    },
    {
      "cell_type": "code",
      "metadata": {},
      "source": [
        "#| eval: false\n",
        "from sklearn.metrics import classification_report\n",
        "print(classification_report(y_valid_fold, valid_pred))"
      ],
      "id": "3fb550f7",
      "execution_count": null,
      "outputs": []
    }
  ],
  "metadata": {
    "kernelspec": {
      "name": "python3",
      "language": "python",
      "display_name": "Python 3 (ipykernel)",
      "path": "/Users/blancagarcia/.virtualenvs/r-reticulate/share/jupyter/kernels/python3"
    }
  },
  "nbformat": 4,
  "nbformat_minor": 5
}