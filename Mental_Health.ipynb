{
 "cells": [
  {
   "cell_type": "markdown",
   "metadata": {},
   "source": [
    "# Mental Health Data"
   ]
  },
  {
   "cell_type": "markdown",
   "metadata": {},
   "source": [
    "Buscaremos predecir la variable objetivo \"Depresión\" del dataset de Salud Mental recopilado como parte de una encuesta integral destinada a entender los factores que contribuyen al riesgo de depresión entre adultos. Se realizó durante una encuesta anónima llevada a cabo entre enero y junio de 2023. La encuesta se realizó en varias ciudades, dirigiéndose a personas de diversos orígenes y profesiones. Los participantes, que tenían entre 18 y 60 años, proporcionaron voluntariamente información sobre factores como la edad, el género, la ciudad, el título académico, la satisfacción laboral, la satisfacción con los estudios, las horas de estudio/trabajo y antecedentes familiares, entre otros.\n",
    "\n",
    "Contiene 140,700 registros en el train set, con 20 variables:\n",
    "\n",
    "- id\n",
    "- Nombre\n",
    "- Género\n",
    "- Edad\n",
    "- Ciudad\n",
    "- Profesionista/Estudiante\n",
    "- Profesión\n",
    "- Presión_académica\n",
    "- Presión_laboral\n",
    "- CGPA\n",
    "- Satisfacción_académica\n",
    "- Satisfacción_laboral\n",
    "- Tiempo_dormir\n",
    "- Hábitos_alimenticios\n",
    "- Grado_académico\n",
    "- Pensamientos_suicidas\n",
    "- Horas_estudio/trabajo\n",
    "- Estrés_financiero\n",
    "- Antecedente_familiar_enfermedad_mental\n",
    "- Depresión"
   ]
  },
  {
   "cell_type": "markdown",
   "metadata": {},
   "source": [
    "# EDA \n",
    "Como primer paso para analizar la información contenida en los dataset, realizaremos un EDA de las variable."
   ]
  },
  {
   "cell_type": "code",
   "execution_count": 50,
   "metadata": {},
   "outputs": [],
   "source": [
    "import numpy as np\n",
    "import pandas as pd \n",
    "import matplotlib.pylab as plt \n",
    "import seaborn as sns \n",
    "from mpl_toolkits.axes_grid1.inset_locator import inset_axes\n",
    "\n",
    "sns.set_palette(\"pastel\")\n",
    "\n",
    "import warnings\n",
    "warnings.filterwarnings('ignore')"
   ]
  },
  {
   "cell_type": "code",
   "execution_count": 51,
   "metadata": {},
   "outputs": [],
   "source": [
    "train = pd.read_csv(\"/Users/blancagarcia/Documents/3er_Sem/Aprendizaje_máquina/ProyectoFinal/data/train.csv\")"
   ]
  },
  {
   "cell_type": "code",
   "execution_count": 52,
   "metadata": {},
   "outputs": [
    {
     "name": "stdout",
     "output_type": "stream",
     "text": [
      "<class 'pandas.core.frame.DataFrame'>\n",
      "RangeIndex: 140700 entries, 0 to 140699\n",
      "Data columns (total 20 columns):\n",
      " #   Column                                 Non-Null Count   Dtype  \n",
      "---  ------                                 --------------   -----  \n",
      " 0   id                                     140700 non-null  int64  \n",
      " 1   Name                                   140700 non-null  object \n",
      " 2   Gender                                 140700 non-null  object \n",
      " 3   Age                                    140700 non-null  float64\n",
      " 4   City                                   140700 non-null  object \n",
      " 5   Working Professional or Student        140700 non-null  object \n",
      " 6   Profession                             104070 non-null  object \n",
      " 7   Academic Pressure                      27897 non-null   float64\n",
      " 8   Work Pressure                          112782 non-null  float64\n",
      " 9   CGPA                                   27898 non-null   float64\n",
      " 10  Study Satisfaction                     27897 non-null   float64\n",
      " 11  Job Satisfaction                       112790 non-null  float64\n",
      " 12  Sleep Duration                         140700 non-null  object \n",
      " 13  Dietary Habits                         140696 non-null  object \n",
      " 14  Degree                                 140698 non-null  object \n",
      " 15  Have you ever had suicidal thoughts ?  140700 non-null  object \n",
      " 16  Work/Study Hours                       140700 non-null  float64\n",
      " 17  Financial Stress                       140696 non-null  float64\n",
      " 18  Family History of Mental Illness       140700 non-null  object \n",
      " 19  Depression                             140700 non-null  int64  \n",
      "dtypes: float64(8), int64(2), object(10)\n",
      "memory usage: 21.5+ MB\n"
     ]
    },
    {
     "data": {
      "text/html": [
       "<div>\n",
       "<style scoped>\n",
       "    .dataframe tbody tr th:only-of-type {\n",
       "        vertical-align: middle;\n",
       "    }\n",
       "\n",
       "    .dataframe tbody tr th {\n",
       "        vertical-align: top;\n",
       "    }\n",
       "\n",
       "    .dataframe thead th {\n",
       "        text-align: right;\n",
       "    }\n",
       "</style>\n",
       "<table border=\"1\" class=\"dataframe\">\n",
       "  <thead>\n",
       "    <tr style=\"text-align: right;\">\n",
       "      <th></th>\n",
       "      <th>id</th>\n",
       "      <th>Name</th>\n",
       "      <th>Gender</th>\n",
       "      <th>Age</th>\n",
       "      <th>City</th>\n",
       "      <th>Working Professional or Student</th>\n",
       "      <th>Profession</th>\n",
       "      <th>Academic Pressure</th>\n",
       "      <th>Work Pressure</th>\n",
       "      <th>CGPA</th>\n",
       "      <th>Study Satisfaction</th>\n",
       "      <th>Job Satisfaction</th>\n",
       "      <th>Sleep Duration</th>\n",
       "      <th>Dietary Habits</th>\n",
       "      <th>Degree</th>\n",
       "      <th>Have you ever had suicidal thoughts ?</th>\n",
       "      <th>Work/Study Hours</th>\n",
       "      <th>Financial Stress</th>\n",
       "      <th>Family History of Mental Illness</th>\n",
       "      <th>Depression</th>\n",
       "    </tr>\n",
       "  </thead>\n",
       "  <tbody>\n",
       "    <tr>\n",
       "      <th>0</th>\n",
       "      <td>0</td>\n",
       "      <td>Aaradhya</td>\n",
       "      <td>Female</td>\n",
       "      <td>49.0</td>\n",
       "      <td>Ludhiana</td>\n",
       "      <td>Working Professional</td>\n",
       "      <td>Chef</td>\n",
       "      <td>NaN</td>\n",
       "      <td>5.0</td>\n",
       "      <td>NaN</td>\n",
       "      <td>NaN</td>\n",
       "      <td>2.0</td>\n",
       "      <td>More than 8 hours</td>\n",
       "      <td>Healthy</td>\n",
       "      <td>BHM</td>\n",
       "      <td>No</td>\n",
       "      <td>1.0</td>\n",
       "      <td>2.0</td>\n",
       "      <td>No</td>\n",
       "      <td>0</td>\n",
       "    </tr>\n",
       "    <tr>\n",
       "      <th>1</th>\n",
       "      <td>1</td>\n",
       "      <td>Vivan</td>\n",
       "      <td>Male</td>\n",
       "      <td>26.0</td>\n",
       "      <td>Varanasi</td>\n",
       "      <td>Working Professional</td>\n",
       "      <td>Teacher</td>\n",
       "      <td>NaN</td>\n",
       "      <td>4.0</td>\n",
       "      <td>NaN</td>\n",
       "      <td>NaN</td>\n",
       "      <td>3.0</td>\n",
       "      <td>Less than 5 hours</td>\n",
       "      <td>Unhealthy</td>\n",
       "      <td>LLB</td>\n",
       "      <td>Yes</td>\n",
       "      <td>7.0</td>\n",
       "      <td>3.0</td>\n",
       "      <td>No</td>\n",
       "      <td>1</td>\n",
       "    </tr>\n",
       "    <tr>\n",
       "      <th>2</th>\n",
       "      <td>2</td>\n",
       "      <td>Yuvraj</td>\n",
       "      <td>Male</td>\n",
       "      <td>33.0</td>\n",
       "      <td>Visakhapatnam</td>\n",
       "      <td>Student</td>\n",
       "      <td>NaN</td>\n",
       "      <td>5.0</td>\n",
       "      <td>NaN</td>\n",
       "      <td>8.97</td>\n",
       "      <td>2.0</td>\n",
       "      <td>NaN</td>\n",
       "      <td>5-6 hours</td>\n",
       "      <td>Healthy</td>\n",
       "      <td>B.Pharm</td>\n",
       "      <td>Yes</td>\n",
       "      <td>3.0</td>\n",
       "      <td>1.0</td>\n",
       "      <td>No</td>\n",
       "      <td>1</td>\n",
       "    </tr>\n",
       "    <tr>\n",
       "      <th>3</th>\n",
       "      <td>3</td>\n",
       "      <td>Yuvraj</td>\n",
       "      <td>Male</td>\n",
       "      <td>22.0</td>\n",
       "      <td>Mumbai</td>\n",
       "      <td>Working Professional</td>\n",
       "      <td>Teacher</td>\n",
       "      <td>NaN</td>\n",
       "      <td>5.0</td>\n",
       "      <td>NaN</td>\n",
       "      <td>NaN</td>\n",
       "      <td>1.0</td>\n",
       "      <td>Less than 5 hours</td>\n",
       "      <td>Moderate</td>\n",
       "      <td>BBA</td>\n",
       "      <td>Yes</td>\n",
       "      <td>10.0</td>\n",
       "      <td>1.0</td>\n",
       "      <td>Yes</td>\n",
       "      <td>1</td>\n",
       "    </tr>\n",
       "    <tr>\n",
       "      <th>4</th>\n",
       "      <td>4</td>\n",
       "      <td>Rhea</td>\n",
       "      <td>Female</td>\n",
       "      <td>30.0</td>\n",
       "      <td>Kanpur</td>\n",
       "      <td>Working Professional</td>\n",
       "      <td>Business Analyst</td>\n",
       "      <td>NaN</td>\n",
       "      <td>1.0</td>\n",
       "      <td>NaN</td>\n",
       "      <td>NaN</td>\n",
       "      <td>1.0</td>\n",
       "      <td>5-6 hours</td>\n",
       "      <td>Unhealthy</td>\n",
       "      <td>BBA</td>\n",
       "      <td>Yes</td>\n",
       "      <td>9.0</td>\n",
       "      <td>4.0</td>\n",
       "      <td>Yes</td>\n",
       "      <td>0</td>\n",
       "    </tr>\n",
       "  </tbody>\n",
       "</table>\n",
       "</div>"
      ],
      "text/plain": [
       "   id      Name  Gender   Age           City Working Professional or Student  \\\n",
       "0   0  Aaradhya  Female  49.0       Ludhiana            Working Professional   \n",
       "1   1     Vivan    Male  26.0       Varanasi            Working Professional   \n",
       "2   2    Yuvraj    Male  33.0  Visakhapatnam                         Student   \n",
       "3   3    Yuvraj    Male  22.0         Mumbai            Working Professional   \n",
       "4   4      Rhea  Female  30.0         Kanpur            Working Professional   \n",
       "\n",
       "         Profession  Academic Pressure  Work Pressure  CGPA  \\\n",
       "0              Chef                NaN            5.0   NaN   \n",
       "1           Teacher                NaN            4.0   NaN   \n",
       "2               NaN                5.0            NaN  8.97   \n",
       "3           Teacher                NaN            5.0   NaN   \n",
       "4  Business Analyst                NaN            1.0   NaN   \n",
       "\n",
       "   Study Satisfaction  Job Satisfaction     Sleep Duration Dietary Habits  \\\n",
       "0                 NaN               2.0  More than 8 hours        Healthy   \n",
       "1                 NaN               3.0  Less than 5 hours      Unhealthy   \n",
       "2                 2.0               NaN          5-6 hours        Healthy   \n",
       "3                 NaN               1.0  Less than 5 hours       Moderate   \n",
       "4                 NaN               1.0          5-6 hours      Unhealthy   \n",
       "\n",
       "    Degree Have you ever had suicidal thoughts ?  Work/Study Hours  \\\n",
       "0      BHM                                    No               1.0   \n",
       "1      LLB                                   Yes               7.0   \n",
       "2  B.Pharm                                   Yes               3.0   \n",
       "3      BBA                                   Yes              10.0   \n",
       "4      BBA                                   Yes               9.0   \n",
       "\n",
       "   Financial Stress Family History of Mental Illness  Depression  \n",
       "0               2.0                               No           0  \n",
       "1               3.0                               No           1  \n",
       "2               1.0                               No           1  \n",
       "3               1.0                              Yes           1  \n",
       "4               4.0                              Yes           0  "
      ]
     },
     "execution_count": 52,
     "metadata": {},
     "output_type": "execute_result"
    }
   ],
   "source": [
    "train.info()\n",
    "train.head()"
   ]
  },
  {
   "cell_type": "markdown",
   "metadata": {},
   "source": [
    "Checar cuales variables tienen NaN"
   ]
  },
  {
   "cell_type": "code",
   "execution_count": 53,
   "metadata": {},
   "outputs": [
    {
     "data": {
      "text/plain": [
       "id                                            0\n",
       "Name                                          0\n",
       "Gender                                        0\n",
       "Age                                           0\n",
       "City                                          0\n",
       "Working Professional or Student               0\n",
       "Profession                                36630\n",
       "Academic Pressure                        112803\n",
       "Work Pressure                             27918\n",
       "CGPA                                     112802\n",
       "Study Satisfaction                       112803\n",
       "Job Satisfaction                          27910\n",
       "Sleep Duration                                0\n",
       "Dietary Habits                                4\n",
       "Degree                                        2\n",
       "Have you ever had suicidal thoughts ?         0\n",
       "Work/Study Hours                              0\n",
       "Financial Stress                              4\n",
       "Family History of Mental Illness              0\n",
       "Depression                                    0\n",
       "dtype: int64"
      ]
     },
     "execution_count": 53,
     "metadata": {},
     "output_type": "execute_result"
    }
   ],
   "source": [
    "train.isnull().sum()"
   ]
  },
  {
   "cell_type": "code",
   "execution_count": 54,
   "metadata": {},
   "outputs": [],
   "source": [
    "train.rename(columns={\n",
    "    'Working Professional or Student': 'Work_Study',\n",
    "    'Academic Pressure': 'Acad_Press',\n",
    "    'Work Pressure': 'Work_Press',\n",
    "    'Study Satisfaction': 'Study_Sat',\n",
    "    'Job Satisfaction': 'Job_Sat',\n",
    "    'Sleep Duration': 'Sleep_Duration',\n",
    "    'Dietary Habits': 'Diet_Habits',\n",
    "    'Have you ever had suicidal thoughts ?': 'Suicidal_Thoughts',\n",
    "    'Work/Study Hours': 'Work_Study_Hours',\n",
    "    'Financial Stress': 'Fin_Stress',\n",
    "    'Family History of Mental Illness': 'Fam_History_Mental_Ill'\n",
    "}, inplace=True)"
   ]
  },
  {
   "cell_type": "markdown",
   "metadata": {},
   "source": [
    "Corregimos las variables que tienen NaN, ya sea con la moda o con el promedio si son numéricas."
   ]
  },
  {
   "cell_type": "code",
   "execution_count": 56,
   "metadata": {},
   "outputs": [
    {
     "name": "stdout",
     "output_type": "stream",
     "text": [
      "count    140696.000000\n",
      "mean          2.988983\n",
      "std           1.413633\n",
      "min           1.000000\n",
      "25%           2.000000\n",
      "50%           3.000000\n",
      "75%           4.000000\n",
      "max           5.000000\n",
      "Name: Fin_Stress, dtype: float64\n"
     ]
    }
   ],
   "source": [
    "# Descripción estadística de la variable Financial Stress\n",
    "print(train['Fin_Stress'].describe())\n",
    "\n",
    "# Moda de la variable Financial Stress\n",
    "mode_finan = train['Fin_Stress'].mode()[0]"
   ]
  },
  {
   "cell_type": "code",
   "execution_count": 57,
   "metadata": {},
   "outputs": [],
   "source": [
    "train['Fin_Stress'].fillna(mode_finan, inplace=True)"
   ]
  },
  {
   "cell_type": "markdown",
   "metadata": {},
   "source": [
    "Ahora con la variable Degree"
   ]
  },
  {
   "cell_type": "code",
   "execution_count": 58,
   "metadata": {},
   "outputs": [
    {
     "name": "stdout",
     "output_type": "stream",
     "text": [
      "count       140698\n",
      "unique         115\n",
      "top       Class 12\n",
      "freq         14729\n",
      "Name: Degree, dtype: object\n"
     ]
    }
   ],
   "source": [
    "# Descripción estadística de la variable Degree\n",
    "print(train['Degree'].describe())\n",
    "\n",
    "# Obtener la moda de la variable Degree\n",
    "mode_degree = train['Degree'].mode()[0]"
   ]
  },
  {
   "cell_type": "code",
   "execution_count": 59,
   "metadata": {},
   "outputs": [],
   "source": [
    "train['Degree'].fillna(mode_degree, inplace=True)"
   ]
  },
  {
   "cell_type": "markdown",
   "metadata": {},
   "source": [
    "Ahora con la variable Dietary Habits"
   ]
  },
  {
   "cell_type": "code",
   "execution_count": 60,
   "metadata": {},
   "outputs": [
    {
     "name": "stdout",
     "output_type": "stream",
     "text": [
      "count       140696\n",
      "unique          23\n",
      "top       Moderate\n",
      "freq         49705\n",
      "Name: Diet_Habits, dtype: object\n"
     ]
    }
   ],
   "source": [
    "# Descripción estadística de la variable Dietary Habits\n",
    "print(train['Diet_Habits'].describe())\n",
    "\n",
    "# Obtener la moda de la variable Dietary Habits\n",
    "mode_diet = train['Diet_Habits'].mode()[0]"
   ]
  },
  {
   "cell_type": "code",
   "execution_count": 61,
   "metadata": {},
   "outputs": [],
   "source": [
    "train['Diet_Habits'].fillna(mode_diet, inplace=True)"
   ]
  },
  {
   "cell_type": "markdown",
   "metadata": {},
   "source": [
    "Ahora con Job Satisfaction"
   ]
  },
  {
   "cell_type": "code",
   "execution_count": 62,
   "metadata": {},
   "outputs": [
    {
     "name": "stdout",
     "output_type": "stream",
     "text": [
      "count    112790.000000\n",
      "mean          2.974404\n",
      "std           1.416078\n",
      "min           1.000000\n",
      "25%           2.000000\n",
      "50%           3.000000\n",
      "75%           4.000000\n",
      "max           5.000000\n",
      "Name: Job_Sat, dtype: float64\n"
     ]
    }
   ],
   "source": [
    "# Descripción estadística de la variable Job Satisfaction\n",
    "print(train['Job_Sat'].describe())\n",
    "\n",
    "# Obtener la moda de la variable Job Satisfaction\n",
    "mode_jobsat = train['Job_Sat'].mode()[0]"
   ]
  },
  {
   "cell_type": "code",
   "execution_count": 63,
   "metadata": {},
   "outputs": [],
   "source": [
    "train['Job_Sat'].fillna(mode_jobsat, inplace=True)"
   ]
  },
  {
   "cell_type": "markdown",
   "metadata": {},
   "source": [
    "Ahora con Study satisfaction"
   ]
  },
  {
   "cell_type": "code",
   "execution_count": 64,
   "metadata": {},
   "outputs": [
    {
     "name": "stdout",
     "output_type": "stream",
     "text": [
      "count    27897.000000\n",
      "mean         2.944940\n",
      "std          1.360197\n",
      "min          1.000000\n",
      "25%          2.000000\n",
      "50%          3.000000\n",
      "75%          4.000000\n",
      "max          5.000000\n",
      "Name: Study_Sat, dtype: float64\n"
     ]
    }
   ],
   "source": [
    "# Descripción estadística de la variable Study Satisfaction\n",
    "print(train['Study_Sat'].describe())\n",
    "\n",
    "# Obtener la moda de la variable Study Satisfaction\n",
    "mode_studysat = train['Study_Sat'].mode()[0]"
   ]
  },
  {
   "cell_type": "code",
   "execution_count": 65,
   "metadata": {},
   "outputs": [],
   "source": [
    "train['Study_Sat'].fillna(mode_studysat, inplace=True)"
   ]
  },
  {
   "cell_type": "code",
   "execution_count": 69,
   "metadata": {},
   "outputs": [
    {
     "name": "stdout",
     "output_type": "stream",
     "text": [
      "count      104070\n",
      "unique         64\n",
      "top       Teacher\n",
      "freq        24906\n",
      "Name: Profession, dtype: object\n"
     ]
    }
   ],
   "source": [
    "# Descripción estadística de la variable Profession\n",
    "print(train['Profession'].describe())\n",
    "\n",
    "# Obtener la moda de la variable Study Satisfaction\n",
    "mode_profess = train['Profession'].mode()[0]"
   ]
  },
  {
   "cell_type": "code",
   "execution_count": null,
   "metadata": {},
   "outputs": [],
   "source": [
    "train['Profession'].fillna(mode_profess, inplace=True)"
   ]
  },
  {
   "cell_type": "code",
   "execution_count": 80,
   "metadata": {},
   "outputs": [
    {
     "name": "stdout",
     "output_type": "stream",
     "text": [
      "count    27897.000000\n",
      "mean         3.142273\n",
      "std          1.380457\n",
      "min          1.000000\n",
      "25%          2.000000\n",
      "50%          3.000000\n",
      "75%          4.000000\n",
      "max          5.000000\n",
      "Name: Acad_Press, dtype: float64\n"
     ]
    }
   ],
   "source": [
    "print(train['Acad_Press'].describe())\n",
    "mode_acadpress = train['Acad_Press'].mode()[0]"
   ]
  },
  {
   "cell_type": "code",
   "execution_count": 81,
   "metadata": {},
   "outputs": [],
   "source": [
    "train['Acad_Press'].fillna(mode_acadpress, inplace=True)"
   ]
  },
  {
   "cell_type": "code",
   "execution_count": 82,
   "metadata": {},
   "outputs": [
    {
     "name": "stdout",
     "output_type": "stream",
     "text": [
      "count    112782.000000\n",
      "mean          2.998998\n",
      "std           1.405771\n",
      "min           1.000000\n",
      "25%           2.000000\n",
      "50%           3.000000\n",
      "75%           4.000000\n",
      "max           5.000000\n",
      "Name: Work_Press, dtype: float64\n"
     ]
    }
   ],
   "source": [
    "print(train['Work_Press'].describe())\n",
    "mode_workpress = train['Work_Press'].mode()[0]"
   ]
  },
  {
   "cell_type": "code",
   "execution_count": 83,
   "metadata": {},
   "outputs": [],
   "source": [
    "train['Work_Press'].fillna(mode_workpress, inplace=True)"
   ]
  },
  {
   "cell_type": "markdown",
   "metadata": {},
   "source": [
    "La variable de CGPA considera el promedio de calificacion obtenida por el paciente, por lo que para el llenado de los NaN se utilizara el promedio de esta variable en lugar de la moda."
   ]
  },
  {
   "cell_type": "code",
   "execution_count": 85,
   "metadata": {},
   "outputs": [
    {
     "name": "stdout",
     "output_type": "stream",
     "text": [
      "count    27898.000000\n",
      "mean         7.658636\n",
      "std          1.464466\n",
      "min          5.030000\n",
      "25%          6.290000\n",
      "50%          7.770000\n",
      "75%          8.920000\n",
      "max         10.000000\n",
      "Name: CGPA, dtype: float64\n"
     ]
    }
   ],
   "source": [
    "print(train['CGPA'].describe())"
   ]
  },
  {
   "cell_type": "code",
   "execution_count": null,
   "metadata": {},
   "outputs": [],
   "source": [
    "\n"
   ]
  }
 ],
 "metadata": {
  "kernelspec": {
   "display_name": "numerico",
   "language": "python",
   "name": "python3"
  },
  "language_info": {
   "codemirror_mode": {
    "name": "ipython",
    "version": 3
   },
   "file_extension": ".py",
   "mimetype": "text/x-python",
   "name": "python",
   "nbconvert_exporter": "python",
   "pygments_lexer": "ipython3",
   "version": "3.12.5"
  }
 },
 "nbformat": 4,
 "nbformat_minor": 2
}
